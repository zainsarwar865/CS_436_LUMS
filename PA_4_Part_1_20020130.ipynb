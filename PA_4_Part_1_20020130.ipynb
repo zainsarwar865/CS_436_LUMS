{
  "nbformat": 4,
  "nbformat_minor": 0,
  "metadata": {
    "colab": {
      "name": "CV_PA_4_Part_1.ipynb",
      "provenance": [],
      "collapsed_sections": []
    },
    "kernelspec": {
      "name": "python3",
      "display_name": "Python 3"
    }
  },
  "cells": [
    {
      "cell_type": "markdown",
      "metadata": {
        "id": "PYubDSiwGQAh",
        "colab_type": "text"
      },
      "source": [
        "# CS 436 CS5310 - Computer Vision - Assignment#4 - Part#1\n",
        "\n",
        "*__Submission Instructions:__*\n",
        "- Rename this notebook to `PA4_rollnumber.ipynb` before submission on LMS.\n",
        "- Code for all the tasks must be written in this notebook (you do not need to submit any other files).\n",
        "- The output of all cells must be present in the version of the notebook you submit.\n",
        "- The university honor code should be maintained. Any violation, if found, will result in disciplinary action."
      ]
    },
    {
      "cell_type": "code",
      "metadata": {
        "id": "UUlVZWsoGULv",
        "colab_type": "code",
        "outputId": "17eb184a-0b26-416d-8d0e-bbb99675760e",
        "colab": {
          "base_uri": "https://localhost:8080/",
          "height": 92
        }
      },
      "source": [
        "#Executed on Colab\n",
        "#Import all the required libraries\n",
        "import os\n",
        "import keras\n",
        "from keras.datasets import fashion_mnist\n",
        "from keras.callbacks import ModelCheckpoint, EarlyStopping, CSVLogger, ReduceLROnPlateau, TensorBoard\n",
        "from keras.applications.vgg16 import VGG16\n",
        "from keras.preprocessing import image\n",
        "from keras.applications.vgg16 import preprocess_input\n",
        "from keras.layers import Activation, Input, Embedding, LSTM, Dense, Lambda, GaussianNoise, concatenate\n",
        "from keras.models import Model\n",
        "import numpy as np\n",
        "import pandas as pd\n",
        "from keras.utils import np_utils\n",
        "from keras.utils import to_categorical\n",
        "from keras.layers.core import Dense, Dropout, Activation\n",
        "from keras import backend as K\n",
        "from keras.models import Sequential\n",
        "from keras.layers import Dense\n",
        "from sklearn.model_selection import train_test_split\n",
        "from keras.optimizers import SGD, Adam, RMSprop\n",
        "from keras.constraints import max_norm\n",
        "from keras.layers import MaxPooling2D, Dropout, Dense, Flatten, Activation, Conv2D, GlobalAveragePooling2D\n",
        "from keras.models import Sequential\n",
        "from keras.losses import categorical_crossentropy as logloss\n",
        "from keras.metrics import categorical_accuracy\n",
        "from keras.applications import vgg16\n",
        "import matplotlib.pyplot as plt\n",
        "from sklearn.metrics import mean_squared_error\n",
        "from matplotlib import offsetbox\n",
        "import cv2\n",
        "%matplotlib inline\n",
        "import matplotlib.pyplot as plt\n",
        "plt.style.use('seaborn')\n",
        "import seaborn as sn\n",
        "from sklearn.metrics import confusion_matrix, plot_confusion_matrix, classification_report"
      ],
      "execution_count": 0,
      "outputs": [
        {
          "output_type": "stream",
          "text": [
            "Using TensorFlow backend.\n",
            "/usr/local/lib/python3.6/dist-packages/statsmodels/tools/_testing.py:19: FutureWarning: pandas.util.testing is deprecated. Use the functions in the public API at pandas.testing instead.\n",
            "  import pandas.util.testing as tm\n"
          ],
          "name": "stderr"
        }
      ]
    },
    {
      "cell_type": "markdown",
      "metadata": {
        "id": "4YNoEeQiGdGi",
        "colab_type": "text"
      },
      "source": [
        "## Overview\n",
        "\n",
        "In this assignment you will be exploring a few important concepts used in the deep learning projects:\n",
        "- Training image classification algorithms using Deep Learning\n",
        "- Dataset Analyses \n",
        "- Testing deep learning classifier with the test data\n",
        "- Fine-tuning / Transfer Learning\n",
        "\n",
        "We will be using the Fashion MNIST dataset that is provided by Keras. You will also be working with pretrained models, which can be downloaded from keras applications. You are **highly** encouraged to explore the images in dataset and model architectures in order to get the most out of this assignment. \n",
        "\n",
        "**_Dataset:_**\n",
        "Fashion-MNIST is a dataset of  article images from a e-commerce website named zalando with 70,000 images of size (28x28x1) each belonging to one of the 10 classes.\n",
        "\n",
        "**_Pretrained Models:_** \n",
        "Can be found [here](https://keras.io/applications/#applications)"
      ]
    },
    {
      "cell_type": "markdown",
      "metadata": {
        "id": "1dSvdXobGlZy",
        "colab_type": "text"
      },
      "source": [
        "## Task 1: Data Preparation for transfer learning\n",
        "\n",
        "To prepare your data:\n",
        "- Download the Fashion MNIST dataset\n",
        "- Split it into train, validation, and test sets\n",
        "- Convert the labels into categorical one hot encoded labels\n",
        "- Cast the images as float and normalize the values between zero and one\n",
        "- The Fashion MNIST dataset contains images of shape (28,28,1), the mimumm (height,width,channels) required by our pretrained model(in this case vgg-16) is (32,32,3)\n",
        "- Convert the images in the datset to shape (32,32,3)"
      ]
    },
    {
      "cell_type": "code",
      "metadata": {
        "id": "t3SNrR8VGaCP",
        "colab_type": "code",
        "outputId": "ee5ab0de-f114-4028-87cd-6846e0c3986f",
        "colab": {
          "base_uri": "https://localhost:8080/",
          "height": 163
        }
      },
      "source": [
        "nb_classes = 10\n",
        "#Download Fashion MNIST dataset(Done for you)\n",
        "(X_Train, y_Train), (X_test, y_test) = fashion_mnist.load_data()\n",
        "#Split the fashion MNIST dataset into train, validation and test sets (Done for you)\n",
        "X_train, X_val, y_train, y_val = train_test_split(X_Train, y_Train, test_size=0.20)\n",
        "\n",
        "#Convert y_train,y_val and y_test to categorical binary values \n",
        "#TO DO\n",
        "#Hint\n",
        "y_train = to_categorical(y_train,nb_classes)\n",
        "\n",
        "y_val = to_categorical(y_val,nb_classes)\n",
        "y_test = to_categorical(y_test,nb_classes)\n",
        "#See function \"np_utils.to_categorical()\""
      ],
      "execution_count": 0,
      "outputs": [
        {
          "output_type": "stream",
          "text": [
            "Downloading data from http://fashion-mnist.s3-website.eu-central-1.amazonaws.com/train-labels-idx1-ubyte.gz\n",
            "32768/29515 [=================================] - 0s 0us/step\n",
            "Downloading data from http://fashion-mnist.s3-website.eu-central-1.amazonaws.com/train-images-idx3-ubyte.gz\n",
            "26427392/26421880 [==============================] - 0s 0us/step\n",
            "Downloading data from http://fashion-mnist.s3-website.eu-central-1.amazonaws.com/t10k-labels-idx1-ubyte.gz\n",
            "8192/5148 [===============================================] - 0s 0us/step\n",
            "Downloading data from http://fashion-mnist.s3-website.eu-central-1.amazonaws.com/t10k-images-idx3-ubyte.gz\n",
            "4423680/4422102 [==============================] - 0s 0us/step\n"
          ],
          "name": "stdout"
        }
      ]
    },
    {
      "cell_type": "code",
      "metadata": {
        "id": "4CJ5_S2b9yN7",
        "colab_type": "code",
        "outputId": "9a2bdfa8-236a-4822-bca3-421da31eaf43",
        "colab": {
          "base_uri": "https://localhost:8080/",
          "height": 35
        }
      },
      "source": [
        "y_train.shape"
      ],
      "execution_count": 0,
      "outputs": [
        {
          "output_type": "execute_result",
          "data": {
            "text/plain": [
              "(48000, 10)"
            ]
          },
          "metadata": {
            "tags": []
          },
          "execution_count": 3
        }
      ]
    },
    {
      "cell_type": "code",
      "metadata": {
        "id": "_Lc7sFV0HAK5",
        "colab_type": "code",
        "colab": {}
      },
      "source": [
        "#Reshape your dataset to batch_size, width, height, #channels(Done for you)\n",
        "X_train = X_train.reshape(48000, 28, 28, 1)\n",
        "X_val = X_val.reshape(12000, 28, 28, 1)\n",
        "X_test = X_test.reshape(10000, 28, 28, 1)\n",
        "#Convert your dataset to float type\n",
        "#TO DO\n",
        "X_train=X_train.astype(np.float32)\n",
        "X_val=X_val.astype(np.float32)\n",
        "X_test=X_test.astype(np.float32)\n",
        "\n",
        "#Normalize the values\n",
        "#TO DO\n",
        "X_train= (X_train-np.mean(X_train)) / np.std(X_train)\n",
        "X_val=(X_val -np.mean(X_val))  / np.std(X_val)\n",
        "X_test=(X_test - np.mean(X_test)) /np.std(X_test)\n",
        "\n"
      ],
      "execution_count": 0,
      "outputs": []
    },
    {
      "cell_type": "code",
      "metadata": {
        "id": "_3SnJ0dRHO_f",
        "colab_type": "code",
        "colab": {}
      },
      "source": [
        "#Preprocess the data for our pretrained model(requires 3 channels) and a mimimum height and width of 32.\n",
        "#Convert all images to shape (32,32,3)\n",
        "X_train_new=[]\n",
        "\n",
        "for i in range(X_train.shape[0]):\n",
        "  resized = cv2.resize(X_train[i],(32,32),interpolation = cv2.INTER_CUBIC)\n",
        "  color = cv2.cvtColor(resized, cv2.COLOR_GRAY2RGB)\n",
        "  X_train_new.append(color)\n",
        "\n",
        "X_train_new= np.array(X_train_new)  \n",
        "\n",
        "X_val_new=[]\n",
        "for i in range(X_val.shape[0]):\n",
        "  resized = cv2.resize(X_val[i],(32,32),interpolation = cv2.INTER_CUBIC)\n",
        "  color = cv2.cvtColor(resized, cv2.COLOR_GRAY2RGB)\n",
        "  X_val_new.append(color)\n",
        "\n",
        "X_val_new = np.array(X_val_new)\n",
        "\n"
      ],
      "execution_count": 0,
      "outputs": []
    },
    {
      "cell_type": "code",
      "metadata": {
        "id": "rYXt97pDl6L_",
        "colab_type": "code",
        "colab": {}
      },
      "source": [
        ""
      ],
      "execution_count": 0,
      "outputs": []
    },
    {
      "cell_type": "code",
      "metadata": {
        "id": "daOrE-w3Hd_P",
        "colab_type": "code",
        "colab": {}
      },
      "source": [
        "def add_new_last_layer(base_model, nb_classes):\n",
        "    \"\"\"Add last layer to the convnet\n",
        "    Args:\n",
        "    base_model: keras model excluding top layer\n",
        "    nb_classes: number of classes\n",
        "    Returns:\n",
        "    new keras model with last fully connected layer\n",
        "    \"\"\"\n",
        "    FC_SIZE=1024\n",
        "    x = base_model.output\n",
        "    x = GlobalAveragePooling2D()(x)\n",
        "    x = Dense(FC_SIZE, activation='relu')(x) \n",
        "    predictions = Dense(nb_classes, activation='softmax')(x) \n",
        "    model = Model(input=base_model.input, output=predictions)\n",
        "    return model"
      ],
      "execution_count": 0,
      "outputs": []
    },
    {
      "cell_type": "markdown",
      "metadata": {
        "id": "XAg5AHSrHuPa",
        "colab_type": "text"
      },
      "source": [
        "## Task 2: Transfer Learning\n",
        "\n",
        "Next you will employ Transfer Learning and finetune the pretrained vgg-16 model to better fit the Fashion MNIST data for 10 classes. You will:\n",
        "\n",
        "- Change the number of nodes in the last FC layer according to the number of classes i.e. 10 \n",
        "- Freeze everything except the FC layers and train it using the train split of our dataset (using appropriate hyperparameters), validating the network for validation split of data.\n",
        "- Plot loss/accuracy vs epochs curves for your simulation\n",
        "\n"
      ]
    },
    {
      "cell_type": "code",
      "metadata": {
        "id": "sQJIzOqCHvUG",
        "colab_type": "code",
        "outputId": "e467f7b6-2485-4ae3-f491-6c45ebbe63d1",
        "colab": {
          "base_uri": "https://localhost:8080/",
          "height": 74
        }
      },
      "source": [
        "#Load the keras base model excluding the top layer\n",
        "#TO DO\n",
        "#Hint\n",
        "#base_model=vgg16.VGG16(...)\n",
        "base_model = VGG16(weights='imagenet', include_top=False,input_tensor=None, input_shape=(32,32,3), pooling=None, classes=nb_classes)"
      ],
      "execution_count": 0,
      "outputs": [
        {
          "output_type": "stream",
          "text": [
            "Downloading data from https://github.com/fchollet/deep-learning-models/releases/download/v0.1/vgg16_weights_tf_dim_ordering_tf_kernels_notop.h5\n",
            "58892288/58889256 [==============================] - 2s 0us/step\n"
          ],
          "name": "stdout"
        }
      ]
    },
    {
      "cell_type": "code",
      "metadata": {
        "id": "ZB0WCgrSH-PU",
        "colab_type": "code",
        "outputId": "6a904de2-0005-48e9-b7f3-dbf1f654431f",
        "colab": {
          "base_uri": "https://localhost:8080/",
          "height": 1000
        }
      },
      "source": [
        "#Since we will be using the pretrained weights for the image net dataset we will freeze all layers of our base model(Done for you)\n",
        "for layer in base_model.layers:\n",
        "    layer.trainable = False\n",
        "#We will now add a new last layer according to the number of classes in our dataset using the \"add_new_last_layer()\" function provided to you\n",
        "#TO DO\n",
        "#Hint\n",
        "\n",
        "\n",
        "vgg_imagenet_new= add_new_last_layer(base_model,nb_classes)\n",
        "\n",
        "#Print Model Summary(Done for you)\n",
        "vgg_imagenet_new.summary()"
      ],
      "execution_count": 0,
      "outputs": [
        {
          "output_type": "stream",
          "text": [
            "Model: \"model_1\"\n",
            "_________________________________________________________________\n",
            "Layer (type)                 Output Shape              Param #   \n",
            "=================================================================\n",
            "input_1 (InputLayer)         (None, 32, 32, 3)         0         \n",
            "_________________________________________________________________\n",
            "block1_conv1 (Conv2D)        (None, 32, 32, 64)        1792      \n",
            "_________________________________________________________________\n",
            "block1_conv2 (Conv2D)        (None, 32, 32, 64)        36928     \n",
            "_________________________________________________________________\n",
            "block1_pool (MaxPooling2D)   (None, 16, 16, 64)        0         \n",
            "_________________________________________________________________\n",
            "block2_conv1 (Conv2D)        (None, 16, 16, 128)       73856     \n",
            "_________________________________________________________________\n",
            "block2_conv2 (Conv2D)        (None, 16, 16, 128)       147584    \n",
            "_________________________________________________________________\n",
            "block2_pool (MaxPooling2D)   (None, 8, 8, 128)         0         \n",
            "_________________________________________________________________\n",
            "block3_conv1 (Conv2D)        (None, 8, 8, 256)         295168    \n",
            "_________________________________________________________________\n",
            "block3_conv2 (Conv2D)        (None, 8, 8, 256)         590080    \n",
            "_________________________________________________________________\n",
            "block3_conv3 (Conv2D)        (None, 8, 8, 256)         590080    \n",
            "_________________________________________________________________\n",
            "block3_pool (MaxPooling2D)   (None, 4, 4, 256)         0         \n",
            "_________________________________________________________________\n",
            "block4_conv1 (Conv2D)        (None, 4, 4, 512)         1180160   \n",
            "_________________________________________________________________\n",
            "block4_conv2 (Conv2D)        (None, 4, 4, 512)         2359808   \n",
            "_________________________________________________________________\n",
            "block4_conv3 (Conv2D)        (None, 4, 4, 512)         2359808   \n",
            "_________________________________________________________________\n",
            "block4_pool (MaxPooling2D)   (None, 2, 2, 512)         0         \n",
            "_________________________________________________________________\n",
            "block5_conv1 (Conv2D)        (None, 2, 2, 512)         2359808   \n",
            "_________________________________________________________________\n",
            "block5_conv2 (Conv2D)        (None, 2, 2, 512)         2359808   \n",
            "_________________________________________________________________\n",
            "block5_conv3 (Conv2D)        (None, 2, 2, 512)         2359808   \n",
            "_________________________________________________________________\n",
            "block5_pool (MaxPooling2D)   (None, 1, 1, 512)         0         \n",
            "_________________________________________________________________\n",
            "global_average_pooling2d_1 ( (None, 512)               0         \n",
            "_________________________________________________________________\n",
            "dense_1 (Dense)              (None, 1024)              525312    \n",
            "_________________________________________________________________\n",
            "dense_2 (Dense)              (None, 10)                10250     \n",
            "=================================================================\n",
            "Total params: 15,250,250\n",
            "Trainable params: 535,562\n",
            "Non-trainable params: 14,714,688\n",
            "_________________________________________________________________\n"
          ],
          "name": "stdout"
        },
        {
          "output_type": "stream",
          "text": [
            "/usr/local/lib/python3.6/dist-packages/ipykernel_launcher.py:14: UserWarning: Update your `Model` call to the Keras 2 API: `Model(inputs=Tensor(\"in..., outputs=Tensor(\"de...)`\n",
            "  \n"
          ],
          "name": "stderr"
        }
      ]
    },
    {
      "cell_type": "code",
      "metadata": {
        "id": "XXDydsWh0enT",
        "colab_type": "code",
        "colab": {}
      },
      "source": [
        ""
      ],
      "execution_count": 0,
      "outputs": []
    },
    {
      "cell_type": "code",
      "metadata": {
        "id": "8N0pekdtJndS",
        "colab_type": "code",
        "colab": {}
      },
      "source": [
        "#Intialize Optimizer for our model(Done for you). You can try using different optimizers with different values\n",
        "adam=Adam(lr=1e-3, beta_1=0.9, beta_2=0.999, epsilon=1e-08)\n",
        "#Compile Model\n",
        "#TO DO\n",
        "#Hint\n",
        "\n",
        "vgg_imagenet_new.compile(loss='binary_crossentropy',\n",
        "                                  optimizer=adam,\n",
        "                                  metrics=['accuracy'])"
      ],
      "execution_count": 0,
      "outputs": []
    },
    {
      "cell_type": "code",
      "metadata": {
        "id": "EbYgiTwsrs-d",
        "colab_type": "code",
        "colab": {}
      },
      "source": [
        "# Learnt these in Deep Learning\n",
        "\n",
        "if not os.path.exists('./'+'vgg_imagenet_new'):\n",
        "    os.mkdir('vgg_imagenet_new')\n",
        "\n",
        "checkpoint = ModelCheckpoint('vgg_imagenet_new'+'/''vgg_imagenet_new'+'-{epoch:02d}-{val_loss:.2f}.h5', \n",
        "                             monitor='val_loss', verbose=1, save_best_only=True, mode='auto')\n",
        "cvslogger = CSVLogger('vgg_imagenet_new'+'/logs.csv', separator=',', append=True)\n",
        "\n",
        "\n",
        "callbacks = [checkpoint, cvslogger]\n"
      ],
      "execution_count": 0,
      "outputs": []
    },
    {
      "cell_type": "code",
      "metadata": {
        "id": "q0wTnUHZrtba",
        "colab_type": "code",
        "colab": {}
      },
      "source": [
        ""
      ],
      "execution_count": 0,
      "outputs": []
    },
    {
      "cell_type": "code",
      "metadata": {
        "id": "SIFQJCKzrsjG",
        "colab_type": "code",
        "colab": {}
      },
      "source": [
        "# Learnt in DL\n",
        "def batch_generator(df,labels, batch_size = 32):\n",
        "    \n",
        "    total_samples = len(df)\n",
        "    total_batches = int(np.ceil(total_samples / batch_size))\n",
        "\n",
        "    \n",
        "    while True:\n",
        "      start = 0\n",
        "      stop = batch_size\n",
        "      for i in range(total_batches):\n",
        "        if i == total_batches - 1:\n",
        "          \n",
        "          yield (df[start:] , labels[start:])\n",
        "        else:\n",
        "          yield (df[start:stop], labels[start:stop])\n",
        "          start = stop\n",
        "          stop += (batch_size)\n",
        "    "
      ],
      "execution_count": 0,
      "outputs": []
    },
    {
      "cell_type": "code",
      "metadata": {
        "id": "I_CXC2P2wlI2",
        "colab_type": "code",
        "colab": {}
      },
      "source": [
        "train_gen = batch_generator(df= X_train_new,labels= y_train)\n",
        "val_gen = batch_generator(df=X_val_new,labels = y_val)\n",
        "\n"
      ],
      "execution_count": 0,
      "outputs": []
    },
    {
      "cell_type": "code",
      "metadata": {
        "id": "NJBvm2Wm8J4P",
        "colab_type": "code",
        "colab": {}
      },
      "source": [
        ""
      ],
      "execution_count": 0,
      "outputs": []
    },
    {
      "cell_type": "code",
      "metadata": {
        "id": "1BSM_J_HxGuA",
        "colab_type": "code",
        "colab": {}
      },
      "source": [
        "a = next(val_gen)"
      ],
      "execution_count": 0,
      "outputs": []
    },
    {
      "cell_type": "code",
      "metadata": {
        "id": "8cX3HYtR8spQ",
        "colab_type": "code",
        "outputId": "79fa4725-4cf2-4ed0-ce33-04787206dc18",
        "colab": {
          "base_uri": "https://localhost:8080/",
          "height": 35
        }
      },
      "source": [
        "a[1].shape"
      ],
      "execution_count": 0,
      "outputs": [
        {
          "output_type": "execute_result",
          "data": {
            "text/plain": [
              "(32, 10)"
            ]
          },
          "metadata": {
            "tags": []
          },
          "execution_count": 14
        }
      ]
    },
    {
      "cell_type": "code",
      "metadata": {
        "id": "Hc_88PwP8mYw",
        "colab_type": "code",
        "colab": {}
      },
      "source": [
        ""
      ],
      "execution_count": 0,
      "outputs": []
    },
    {
      "cell_type": "code",
      "metadata": {
        "id": "BkIIzVeeKJbf",
        "colab_type": "code",
        "outputId": "5e8c0589-b0b5-4d63-e379-c2de2399b9ea",
        "colab": {
          "base_uri": "https://localhost:8080/",
          "height": 401
        }
      },
      "source": [
        "#Train the vgg-16 model\n",
        "epochs = 5\n",
        "batch_size =  32\n",
        "#TO DO\n",
        "#Hint\n",
        "history=vgg_imagenet_new.fit_generator(train_gen, epochs=epochs, verbose=1, callbacks=callbacks, validation_data=val_gen, shuffle=True,  steps_per_epoch=(int(np.ceil(len(X_train_new)/batch_size))), validation_steps=(int(len(X_val_new)//batch_size)), validation_freq=1)\n",
        "\n",
        "#The history variable will be used later to plot accuracy and loss curves"
      ],
      "execution_count": 15,
      "outputs": [
        {
          "output_type": "stream",
          "text": [
            "Epoch 1/5\n",
            "1500/1500 [==============================] - 434s 289ms/step - loss: 0.0841 - accuracy: 0.9663 - val_loss: 0.0845 - val_accuracy: 0.9716\n",
            "\n",
            "Epoch 00001: val_loss improved from inf to 0.08447, saving model to vgg_imagenet_new/vgg_imagenet_new-01-0.08.h5\n",
            "Epoch 2/5\n",
            "1500/1500 [==============================] - 430s 287ms/step - loss: 0.0660 - accuracy: 0.9734 - val_loss: 0.0808 - val_accuracy: 0.9736\n",
            "\n",
            "Epoch 00002: val_loss improved from 0.08447 to 0.08082, saving model to vgg_imagenet_new/vgg_imagenet_new-02-0.08.h5\n",
            "Epoch 3/5\n",
            "1500/1500 [==============================] - 430s 287ms/step - loss: 0.0586 - accuracy: 0.9765 - val_loss: 0.0781 - val_accuracy: 0.9741\n",
            "\n",
            "Epoch 00003: val_loss improved from 0.08082 to 0.07814, saving model to vgg_imagenet_new/vgg_imagenet_new-03-0.08.h5\n",
            "Epoch 4/5\n",
            "1500/1500 [==============================] - 430s 286ms/step - loss: 0.0529 - accuracy: 0.9791 - val_loss: 0.0875 - val_accuracy: 0.9741\n",
            "\n",
            "Epoch 00004: val_loss did not improve from 0.07814\n",
            "Epoch 5/5\n",
            "1500/1500 [==============================] - 430s 287ms/step - loss: 0.0476 - accuracy: 0.9815 - val_loss: 0.0839 - val_accuracy: 0.9743\n",
            "\n",
            "Epoch 00005: val_loss did not improve from 0.07814\n"
          ],
          "name": "stdout"
        }
      ]
    },
    {
      "cell_type": "code",
      "metadata": {
        "id": "CtG-N7iDKjAF",
        "colab_type": "code",
        "colab": {}
      },
      "source": [
        "  #Lets test our transfer learned model on the test set\n",
        "#Preprocess the test data just like we did before i.e convert all images to shape (32,32,3)\n",
        "\n",
        "\n",
        "X_test_new = []\n",
        "for i in range(X_test.shape[0]):\n",
        "  resized = cv2.resize(X_test[i],(32,32),interpolation = cv2.INTER_CUBIC)\n",
        "  color = cv2.cvtColor(resized, cv2.COLOR_GRAY2RGB)\n",
        "  X_test_new.append(color)\n",
        "\n",
        "X_test_new = np.array(X_test_new)\n"
      ],
      "execution_count": 0,
      "outputs": []
    },
    {
      "cell_type": "code",
      "metadata": {
        "id": "9DvC9pOZIEEy",
        "colab_type": "code",
        "colab": {}
      },
      "source": [
        "test_gen = batch_generator(df = X_test_new,labels = y_test)"
      ],
      "execution_count": 0,
      "outputs": []
    },
    {
      "cell_type": "code",
      "metadata": {
        "id": "_qvuVJaALC2J",
        "colab_type": "code",
        "outputId": "ade89ed2-2d7e-4797-819f-798f1f24da07",
        "colab": {
          "base_uri": "https://localhost:8080/",
          "height": 35
        }
      },
      "source": [
        "#Evaluate the transfer learned model\n",
        "#TO DO\n",
        "#Hint\n",
        "#vgg_imagenet_new.evaluate(...)\n",
        "hist=vgg_imagenet_new.evaluate_generator(test_gen, steps= np.ceil(len(X_test_new)/batch_size), callbacks=callbacks,  verbose=1)\n"
      ],
      "execution_count": 18,
      "outputs": [
        {
          "output_type": "stream",
          "text": [
            "313/313 [==============================] - 72s 229ms/step\n"
          ],
          "name": "stdout"
        }
      ]
    },
    {
      "cell_type": "code",
      "metadata": {
        "id": "YGMB2z0JLCWV",
        "colab_type": "code",
        "colab": {}
      },
      "source": [
        ""
      ],
      "execution_count": 0,
      "outputs": []
    },
    {
      "cell_type": "code",
      "metadata": {
        "id": "I9jenvyLLReE",
        "colab_type": "code",
        "colab": {}
      },
      "source": [
        "#Plot training and validation accuracy curves using matplot lib\n",
        "#Hint\n",
        "\n",
        "#Values for training and validation accuarcy can be obtained using history.history['accuracy'] and history.history['val_accuracy'] respectively\n",
        "def plotHistory(histories, names, metric):\n",
        "    plt.clf() \n",
        "    x_axis = list(range(epochs))\n",
        "    plt.plot(x_axis, histories.history[metric[0]], label=metric[0]+'_'+names)\n",
        "    plt.plot(x_axis, histories.history[metric[1]], label=metric[1]+'_'+names)\n",
        "    plt.scatter(x_axis, histories.history[metric[0]])\n",
        "    plt.scatter(x_axis, histories.history[metric[1]])\n",
        "    \n",
        "    plt.legend()\n",
        "    plt.title(metric[0])\n",
        "    plt.show()"
      ],
      "execution_count": 0,
      "outputs": []
    },
    {
      "cell_type": "code",
      "metadata": {
        "id": "pcdS5KrvYGy5",
        "colab_type": "code",
        "colab": {}
      },
      "source": [
        ""
      ],
      "execution_count": 0,
      "outputs": []
    },
    {
      "cell_type": "code",
      "metadata": {
        "id": "l3El-0DJLEyd",
        "colab_type": "code",
        "outputId": "3abb6a0c-677d-40b2-bacd-967724b867b7",
        "colab": {
          "base_uri": "https://localhost:8080/",
          "height": 280
        }
      },
      "source": [
        "# \n",
        "names = 'VGG16'\n",
        "metrics = ['accuracy','val_accuracy']\n",
        "plotHistory(history,names,metrics)"
      ],
      "execution_count": 20,
      "outputs": [
        {
          "output_type": "display_data",
          "data": {
            "image/png": "[encoded data removed]",
            "text/plain": [
              "<Figure size 432x288 with 1 Axes>"
            ]
          },
          "metadata": {
            "tags": [],
            "needs_background": "light"
          }
        }
      ]
    },
    {
      "cell_type": "code",
      "metadata": {
        "id": "hB3OLXYgL41Y",
        "colab_type": "code",
        "colab": {}
      },
      "source": [
        "#Plot training and validation loss curves using matplot lib\n",
        "#Hint\n",
        "#Values for training and validation loss can be obtained using history.history['loss'] and history.history['val_loss'] respectively"
      ],
      "execution_count": 0,
      "outputs": []
    },
    {
      "cell_type": "code",
      "metadata": {
        "id": "3kQaVGXqYH0j",
        "colab_type": "code",
        "outputId": "5dd3fd5e-c7e9-4c8c-8182-d3d1b1ac84e0",
        "colab": {
          "base_uri": "https://localhost:8080/",
          "height": 280
        }
      },
      "source": [
        "# Training \n",
        "names = 'VGG16'\n",
        "metrics = ['loss','val_loss']\n",
        "plotHistory(history,names,metrics)"
      ],
      "execution_count": 22,
      "outputs": [
        {
          "output_type": "display_data",
          "data": {
            "image/png": "[encoded data removed]",
            "text/plain": [
              "<Figure size 432x288 with 1 Axes>"
            ]
          },
          "metadata": {
            "tags": [],
            "needs_background": "light"
          }
        }
      ]
    },
    {
      "cell_type": "markdown",
      "metadata": {
        "id": "4XATeh2MMHMe",
        "colab_type": "text"
      },
      "source": [
        "## Task 3: Network Evaluation\n",
        "\n",
        "Next you will test your finetuned model by plotting a confusion matrix between classes predicted. You will:\n",
        "\n",
        "- Test your model for images in the test set\n",
        "- Construct a multiclass confusion matrix (for 10 classes) for actual and predicted class of each image and visualize the confusion matrix as a heatmap\n",
        "\n",
        "*You can use scikit-learn's `metrics.confusion_matrix` function. Consult the relevant documentation.* "
      ]
    },
    {
      "cell_type": "code",
      "metadata": {
        "id": "F5oBJSb9MGIn",
        "colab_type": "code",
        "outputId": "9119081b-3180-45e1-e801-a309bef0ac7a",
        "colab": {
          "base_uri": "https://localhost:8080/",
          "height": 35
        }
      },
      "source": [
        "# Getting predicted values for the test data \n",
        "\n",
        "preds = vgg_imagenet_new.predict_generator(test_gen, steps=int(np.ceil(len(X_test_new)/batch_size)), verbose=1)\n",
        "\n",
        "preds = np.argmax(preds, axis=1)"
      ],
      "execution_count": 23,
      "outputs": [
        {
          "output_type": "stream",
          "text": [
            "313/313 [==============================] - 71s 228ms/step\n"
          ],
          "name": "stdout"
        }
      ]
    },
    {
      "cell_type": "code",
      "metadata": {
        "id": "FIi3YPdRiEXo",
        "colab_type": "code",
        "colab": {}
      },
      "source": [
        "#preds = to_categorical(preds,nb_classes)\n"
      ],
      "execution_count": 0,
      "outputs": []
    },
    {
      "cell_type": "code",
      "metadata": {
        "id": "DDrS3zw5igvC",
        "colab_type": "code",
        "colab": {}
      },
      "source": [
        "y = np.argmax(y_test,axis=1)\n"
      ],
      "execution_count": 0,
      "outputs": []
    },
    {
      "cell_type": "code",
      "metadata": {
        "id": "C7OVKfsefWnz",
        "colab_type": "code",
        "colab": {}
      },
      "source": [
        "true = y_test\n",
        "conf_mat = sat_con_mat = confusion_matrix(y,preds)"
      ],
      "execution_count": 0,
      "outputs": []
    },
    {
      "cell_type": "code",
      "metadata": {
        "id": "TY3ZaaAEkeKq",
        "colab_type": "code",
        "colab": {}
      },
      "source": [
        "def plot_confusion_matrix(conf_mat):\n",
        "    classes = [0,1,2,3,4,5,6,7,8,9]\n",
        "    df_cm = pd.DataFrame(conf_mat,classes,classes)\n",
        "    plt.figure(figsize=(17,11))\n",
        "    sn.set(font_scale=0.7)\n",
        "    sn.heatmap(df_cm, annot=True,annot_kws={\"size\": 16})\n",
        "    plt.show()"
      ],
      "execution_count": 0,
      "outputs": []
    },
    {
      "cell_type": "code",
      "metadata": {
        "id": "AowQY4_egwPs",
        "colab_type": "code",
        "outputId": "bf076ec1-8dcc-4fdd-c9ed-8eddb4401310",
        "colab": {
          "base_uri": "https://localhost:8080/",
          "height": 651
        }
      },
      "source": [
        "plot_confusion_matrix(conf_mat)"
      ],
      "execution_count": 27,
      "outputs": [
        {
          "output_type": "display_data",
          "data": {
            "image/png": "[encoded data removed]",
            "text/plain": [
              "<Figure size 1224x792 with 2 Axes>"
            ]
          },
          "metadata": {
            "tags": [],
            "needs_background": "light"
          }
        }
      ]
    },
    {
      "cell_type": "code",
      "metadata": {
        "id": "wyuzFsX7kpqm",
        "colab_type": "code",
        "colab": {}
      },
      "source": [
        ""
      ],
      "execution_count": 0,
      "outputs": []
    }
  ]
}